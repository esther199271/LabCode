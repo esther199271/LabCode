{
 "cells": [
  {
   "cell_type": "markdown",
   "id": "b6a94976",
   "metadata": {},
   "source": [
    "Práctica 1 de Técnicas computacionales en biomedicina. 1º de Ingeniería Biomédica"
   ]
  },
  {
   "cell_type": "markdown",
   "id": "9239d74f",
   "metadata": {},
   "source": [
    "Calcular área y perímetro de la circunferencia dado su radio"
   ]
  },
  {
   "cell_type": "code",
   "execution_count": 1,
   "id": "95f781ec",
   "metadata": {},
   "outputs": [
    {
     "name": "stdout",
     "output_type": "stream",
     "text": [
      "Introduce el radio: 4\n",
      "39.4384\n",
      "25.04\n"
     ]
    }
   ],
   "source": [
    "respuesta = input(\"Introduce el radio: \")\n",
    "radio = int(respuesta)\n",
    "area = radio * (3.14 * 3.14)\n",
    "print (area)\n",
    "\n",
    "perimetro = radio * 3.13 * 2\n",
    "print (perimetro)"
   ]
  },
  {
   "cell_type": "markdown",
   "id": "56cc3613",
   "metadata": {},
   "source": [
    "Dado un número de días, calcular el número de días, minutos y segundos"
   ]
  },
  {
   "cell_type": "code",
   "execution_count": 2,
   "id": "26b51c68",
   "metadata": {},
   "outputs": [
    {
     "name": "stdout",
     "output_type": "stream",
     "text": [
      "Escribe un numero de dias: 4\n",
      "96\n",
      "5760\n",
      "345600\n"
     ]
    }
   ],
   "source": [
    "respuesta = input(\"Escribe un numero de dias: \")\n",
    "dias = int(respuesta)\n",
    "\n",
    "horas = dias * 24\n",
    "print (horas)\n",
    "minutos = horas * 60\n",
    "print (minutos)\n",
    "segundos = minutos * 60\n",
    "print (segundos)"
   ]
  },
  {
   "cell_type": "markdown",
   "id": "f7379aad",
   "metadata": {},
   "source": [
    "Dado un número entero, mostrar si es par o impar"
   ]
  },
  {
   "cell_type": "code",
   "execution_count": 5,
   "id": "2324ff15",
   "metadata": {},
   "outputs": [
    {
     "name": "stdout",
     "output_type": "stream",
     "text": [
      "Introduce un número: 4\n",
      "el numero es par\n"
     ]
    }
   ],
   "source": [
    "respuesta = input(\"Introduce un número: \")\n",
    "numero = int(respuesta)\n",
    "if numero % 2 == 0:\n",
    "    print (\"el numero es par\")\n",
    "else:\n",
    "    print (\"el numero es impar\")\n",
    "\n"
   ]
  },
  {
   "cell_type": "markdown",
   "id": "e6f3a955",
   "metadata": {},
   "source": [
    "Dadp un año, decir si es bisiesto"
   ]
  },
  {
   "cell_type": "code",
   "execution_count": 4,
   "id": "7bb4cb69",
   "metadata": {},
   "outputs": [
    {
     "name": "stdout",
     "output_type": "stream",
     "text": [
      "Introduce un año: 5\n",
      "el año no es bisiesto\n"
     ]
    }
   ],
   "source": [
    "respuesta = input(\"Introduce un año: \")\n",
    "año = int(respuesta)\n",
    "if (año % 4 == 0 and año % 100 != 0 and año % 400 == 0):\n",
    "    print(\"El año es bisiesto\")\n",
    "else:\n",
    "    print(\"el año no es bisiesto\")"
   ]
  },
  {
   "cell_type": "code",
   "execution_count": null,
   "id": "8f6bc314",
   "metadata": {},
   "outputs": [],
   "source": []
  }
 ],
 "metadata": {
  "kernelspec": {
   "display_name": "Python 3 (ipykernel)",
   "language": "python",
   "name": "python3"
  },
  "language_info": {
   "codemirror_mode": {
    "name": "ipython",
    "version": 3
   },
   "file_extension": ".py",
   "mimetype": "text/x-python",
   "name": "python",
   "nbconvert_exporter": "python",
   "pygments_lexer": "ipython3",
   "version": "3.10.9"
  }
 },
 "nbformat": 4,
 "nbformat_minor": 5
}
